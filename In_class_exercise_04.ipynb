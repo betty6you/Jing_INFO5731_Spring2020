{
  "nbformat": 4,
  "nbformat_minor": 0,
  "metadata": {
    "colab": {
      "name": "In_class_exercise_04.ipynb",
      "provenance": [],
      "collapsed_sections": [],
      "include_colab_link": true
    },
    "kernelspec": {
      "display_name": "Python 3",
      "language": "python",
      "name": "python3"
    },
    "language_info": {
      "codemirror_mode": {
        "name": "ipython",
        "version": 3
      },
      "file_extension": ".py",
      "mimetype": "text/x-python",
      "name": "python",
      "nbconvert_exporter": "python",
      "pygments_lexer": "ipython3",
      "version": "3.8.5"
    }
  },
  "cells": [
    {
      "cell_type": "markdown",
      "metadata": {
        "id": "view-in-github",
        "colab_type": "text"
      },
      "source": [
        "<a href=\"https://colab.research.google.com/github/betty6you/Jing_INFO5731_Spring2020/blob/main/In_class_exercise_04.ipynb\" target=\"_parent\"><img src=\"https://colab.research.google.com/assets/colab-badge.svg\" alt=\"Open In Colab\"/></a>"
      ]
    },
    {
      "cell_type": "markdown",
      "metadata": {
        "id": "EuX00KHNeSpw"
      },
      "source": [
        "# **The fourth in-class-exercise (20 points in total, 2/9/2021)**"
      ]
    },
    {
      "cell_type": "markdown",
      "metadata": {
        "id": "s-vTOb03hG1f"
      },
      "source": [
        "# 1. Text Data Preprocessing\n",
        "\n",
        "Here is a [legal case](https://github.com/unt-iialab/info5731_spring2021/blob/main/class_exercises/01-05-1%20%20Adams%20v%20Tanner.txt) we collected from westlaw, please follow the steps we mentioned in lesson 5 to clean the data:\n",
        "\n",
        "\n",
        "\n",
        "## 1.1 Basic feature extraction using text data (4 points)\n",
        "\n",
        "*   Number of sentences\n",
        "*   Number of words\n",
        "*   Number of characters\n",
        "*   Average word length\n",
        "*   Number of stopwords\n",
        "*   Number of special characters\n",
        "*   Number of numerics\n",
        "*   Number of uppercase words\n",
        "\n",
        "## 1.2 Basic Text Pre-processing of text data (4 points)\n",
        "\n",
        "*   Lower casing\n",
        "*   Punctuation removal\n",
        "*   Stopwords removal\n",
        "*   Frequent words removal\n",
        "*   Rare words removal\n",
        "*   Spelling correction\n",
        "*   Tokenization\n",
        "*   Stemming\n",
        "*   Lemmatization\n",
        "\n",
        "## 1.3 Save all the **clean sentences** to a **csv file** (one column, each raw is a sentence) after finishing all the steps above. (4 points)\n",
        "\n",
        "\n",
        "## 1.4 Advance Text Processing (Extra credit: 4 points)\n",
        "\n",
        "*   Calculate the term frequency of all the terms.\n",
        "*   Print out top 10 1-gram, top 10 2-grams, and top 10 3-grams terms as features.\n"
      ]
    },
    {
      "cell_type": "code",
      "metadata": {
        "id": "lAub_nuVAhsU",
        "colab": {
          "base_uri": "https://localhost:8080/"
        },
        "outputId": "b916b0db-49bd-4a14-e143-65d2a8e586f3"
      },
      "source": [
        "# for question 1.1\r\n",
        "!pip install pandas\r\n",
        "import pandas as pd\r\n",
        "import string\r\n",
        "from nltk.corpus import stopwords\r\n",
        "import nltk\r\n",
        "nltk.download('stopwords')\r\n",
        "stop=stopwords.words('english')\r\n",
        "\r\n",
        "input=pd.read_csv(r\"https://raw.githubusercontent.com/unt-iialab/info5731_spring2021/main/class_exercises/01-05-1%20%20Adams%20v%20Tanner.txt\",delimiter='\\t',header=None)\r\n",
        "input.to_csv(\"lawsuit.csv\",header=None)\r\n",
        "data=pd.read_csv(\"lawsuit.csv\",names=['sentences'])\r\n",
        "data['sentence_number']=data['sentences'].count()\r\n",
        "data['word_count']=data['sentences'].apply(lambda x: len(str(x).split(\" \")))\r\n",
        "data['char_count']=data['sentences'].str.len()\r\n",
        "data['stopwords']=data['sentences'].apply(lambda x:len ([x for x in x.split( ) if x in stop]))\r\n",
        "def avg_word(sentence):\r\n",
        "  words=sentence.split()\r\n",
        "  if len(words)==0:\r\n",
        "    return 1\r\n",
        "  else:\r\n",
        "    return (sum(len(word) for word in words)/len(words))\r\n",
        "\r\n",
        "data['avg_word']=data['sentences'].apply(lambda x: avg_word(x))\r\n",
        "\r\n",
        "data['special_char']=data['sentences'].apply(lambda x: len([x for x in x.split() if x.startswith(('**','Â','â€','©'))]))\r\n",
        "\r\n",
        "\r\n",
        "data['numeric']=data['sentences'].apply(lambda x: len([x for x in x.split() if x.isdigit()]))\r\n",
        "\r\n",
        "data['upper']=data['sentences'].apply(lambda x: len([x for x in x.split() if x.isupper()]))\r\n",
        "data[['sentences','sentence_number','word_count','char_count','avg_word','stopwords','special_char','numeric','upper']].head()\r\n",
        "\r\n",
        "# for question 1.2\r\n",
        "\r\n",
        "\r\n",
        "data['sentences']=data['sentences'].apply(lambda x:\" \".join(x.lower() for x in x.split()))# lower casing\r\n",
        "\r\n",
        "data['sentences']=data['sentences'].str.replace('[^\\w\\s]','') # punctuation removal\r\n",
        "\r\n",
        "data['sentences']=data['sentences'].apply(lambda x: \" \".join(x for x in x.split() if x not in stop)) # stopwords removal\r\n",
        "\r\n",
        "\r\n",
        "\r\n",
        "freq = pd.Series(' '.join(data['sentences']).split()).value_counts()[:10]\r\n",
        "freq = list(freq.index)\r\n",
        "data['sentences'] = data['sentences'].apply(lambda x: \" \".join(x for x in x.split() if x not in freq))# frequency words removal\r\n",
        "\r\n",
        "rare = pd.Series(' '.join(data['sentences']).split()).value_counts()[-10:]\r\n",
        "rare = list(rare.index)\r\n",
        "data['sentences'] = data['sentences'].apply(lambda x: \" \".join(x for x in x.split() if x not in rare))# Rare words removal\r\n",
        "\r\n",
        "from textblob import TextBlob\r\n",
        "data['sentences'][:5].apply(lambda x: str(TextBlob(x).correct())) # Spelling correction\r\n",
        "\r\n",
        "nltk.download('punkt')\r\n",
        "TextBlob(data['sentences'][1]).words # Tokenization\r\n",
        "\r\n",
        "from nltk.stem import PorterStemmer\r\n",
        "st = PorterStemmer()\r\n",
        "data['sentences'][:5].apply(lambda x: \" \".join([st.stem(word) for word in x.split()])) # Stemming\r\n",
        "\r\n",
        "from textblob import Word\r\n",
        "nltk.download('wordnet')\r\n",
        "data['sentences']= data['sentences'].apply(lambda x: \" \".join([Word(word).lemmatize() for word in x.split()])) # Lemmatization\r\n",
        "\r\n",
        "\r\n",
        "data['sentences'].head()\r\n",
        "\r\n",
        "data.to_csv(\"lawsuit_preprocess.csv\",index=False) # whole result of preprocessing \r\n",
        "\r\n",
        "\r\n",
        "\r\n",
        "\r\n",
        "# for question 1.3\r\n",
        "data['sentences'].to_csv(\"lawsuit_updated.csv\",header=None,index=False) # only 1 column with clean sentences\r\n"
      ],
      "execution_count": 5,
      "outputs": [
        {
          "output_type": "stream",
          "text": [
            "Requirement already satisfied: pandas in /usr/local/lib/python3.6/dist-packages (1.1.5)\n",
            "Requirement already satisfied: pytz>=2017.2 in /usr/local/lib/python3.6/dist-packages (from pandas) (2018.9)\n",
            "Requirement already satisfied: python-dateutil>=2.7.3 in /usr/local/lib/python3.6/dist-packages (from pandas) (2.8.1)\n",
            "Requirement already satisfied: numpy>=1.15.4 in /usr/local/lib/python3.6/dist-packages (from pandas) (1.19.5)\n",
            "Requirement already satisfied: six>=1.5 in /usr/local/lib/python3.6/dist-packages (from python-dateutil>=2.7.3->pandas) (1.15.0)\n",
            "[nltk_data] Downloading package stopwords to /root/nltk_data...\n",
            "[nltk_data]   Package stopwords is already up-to-date!\n",
            "[nltk_data] Downloading package punkt to /root/nltk_data...\n",
            "[nltk_data]   Package punkt is already up-to-date!\n",
            "[nltk_data] Downloading package wordnet to /root/nltk_data...\n",
            "[nltk_data]   Package wordnet is already up-to-date!\n"
          ],
          "name": "stdout"
        }
      ]
    },
    {
      "cell_type": "markdown",
      "metadata": {
        "id": "BBiC4E_kefvV"
      },
      "source": [
        "# 2. Python Regular Expression"
      ]
    },
    {
      "cell_type": "markdown",
      "metadata": {
        "id": "Z1QJ-UwCenvN"
      },
      "source": [
        "## 2.1 Write a Python program to remove leading zeros from an IP address. (4 points)\n",
        "\n",
        "ip = \"260.08.094.109\""
      ]
    },
    {
      "cell_type": "code",
      "metadata": {
        "id": "wSv6fVhOfFmv",
        "colab": {
          "base_uri": "https://localhost:8080/",
          "height": 35
        },
        "outputId": "9defcb42-4516-48ee-f265-855127874c6c"
      },
      "source": [
        "# Write your code here\n",
        "\n",
        "import re\n",
        "ip=\"260.08.094.109\"\n",
        "\n",
        "def remove_zeros_from_ip(ip_address):\n",
        "  string = re.sub(r'\\b0+(\\d+)', r'\\1', ip_address)  \n",
        "  return string\n",
        "\n",
        "remove_zeros_from_ip(ip)\n",
        "\n",
        "\n",
        "\n"
      ],
      "execution_count": null,
      "outputs": [
        {
          "output_type": "execute_result",
          "data": {
            "application/vnd.google.colaboratory.intrinsic+json": {
              "type": "string"
            },
            "text/plain": [
              "'260.8.94.109'"
            ]
          },
          "metadata": {
            "tags": []
          },
          "execution_count": 71
        }
      ]
    },
    {
      "cell_type": "markdown",
      "metadata": {
        "id": "PXRjaHzrfKAy"
      },
      "source": [
        "## 2.2 Write a Python Program to extract all the years from the following sentence. (4 points)\n",
        "\n",
        "sentence = \"The 2010s were a dramatic decade, filled with ups and downs, more than 1000 stroies have happened. As the decade comes to a close, Insider took a look back at some of the biggest headline-grabbing stories, from 2010 to 2019. The result was 119 news stories that ranged from the heartwarming rescue of a Thai boys' soccer team from a flooded cave to the divisive election of President Donald Trump.\""
      ]
    },
    {
      "cell_type": "code",
      "metadata": {
        "id": "7xdJpDx9gjbX",
        "colab": {
          "base_uri": "https://localhost:8080/"
        },
        "outputId": "117b4c05-2bc4-4bf7-a0d8-a4f0a990ebd0"
      },
      "source": [
        "# Write your code here\r\n",
        "import re\r\n",
        "sentence='''\r\n",
        "The 2010s were a dramatic decade, filled with ups and downs, more \r\n",
        "than 1000 stroies have happened. As the decade comes to a close, \r\n",
        "Insider took a look back at some of the biggest headline-grabbing \r\n",
        "stories, from 2010 to 2019. The result was 119 news stories that \r\n",
        "ranged from the heartwarming rescue of a Thai boys' soccer team from \r\n",
        "a flooded cave to the divisive election of President Donald Trump.\r\n",
        "'''\r\n",
        "year=re.findall('[2]'+'[0]'+'[0-9]+[0-9]',sentence)\r\n",
        "print(year)"
      ],
      "execution_count": null,
      "outputs": [
        {
          "output_type": "stream",
          "text": [
            "['2010', '2010', '2019']\n"
          ],
          "name": "stdout"
        }
      ]
    }
  ]
}