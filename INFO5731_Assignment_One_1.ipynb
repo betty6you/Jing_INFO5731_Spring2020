{
  "nbformat": 4,
  "nbformat_minor": 0,
  "metadata": {
    "colab": {
      "name": "INFO5731_Assignment_One-1.ipynb",
      "provenance": [],
      "collapsed_sections": [],
      "toc_visible": true,
      "include_colab_link": true
    },
    "kernelspec": {
      "display_name": "Python 3",
      "language": "python",
      "name": "python3"
    },
    "language_info": {
      "codemirror_mode": {
        "name": "ipython",
        "version": 3
      },
      "file_extension": ".py",
      "mimetype": "text/x-python",
      "name": "python",
      "nbconvert_exporter": "python",
      "pygments_lexer": "ipython3",
      "version": "3.7.4"
    }
  },
  "cells": [
    {
      "cell_type": "markdown",
      "metadata": {
        "id": "view-in-github",
        "colab_type": "text"
      },
      "source": [
        "<a href=\"https://colab.research.google.com/github/betty6you/Jing_INFO5731_Spring2020/blob/main/INFO5731_Assignment_One_1.ipynb\" target=\"_parent\"><img src=\"https://colab.research.google.com/assets/colab-badge.svg\" alt=\"Open In Colab\"/></a>"
      ]
    },
    {
      "cell_type": "markdown",
      "metadata": {
        "id": "Ryk8D1Q4Wsrp"
      },
      "source": [
        "# **INFO5731 Assignment One**"
      ]
    },
    {
      "cell_type": "markdown",
      "metadata": {
        "id": "90_NR8c5XGWc"
      },
      "source": [
        "# Question 1\n",
        "\n",
        "(20 points). Write a Python program to generate 12 random numbers between 1 and 100. Sort the list of numbers in ascending order and print it out. Sort the list of numbers in descending order and print it out. Calculate the average for the group and print it out."
      ]
    },
    {
      "cell_type": "code",
      "metadata": {
        "colab": {
          "base_uri": "https://localhost:8080/"
        },
        "id": "5QX6bJjGWXY9",
        "outputId": "9484fa56-9891-4dfa-dcb9-67e1511a07e2"
      },
      "source": [
        "# Your code here\n",
        "\n",
        "import random\n",
        "import statistics\n",
        "randomlist=[]\n",
        "for i in range (0,12):\n",
        "  n=random.randint(1,100)\n",
        "  randomlist.append(n)\n",
        "print(randomlist)\n",
        "print(sorted(randomlist))\n",
        "print(sorted(randomlist,reverse=True))\n",
        "print(statistics.mean(randomlist))"
      ],
      "execution_count": null,
      "outputs": [
        {
          "output_type": "stream",
          "text": [
            "[77, 68, 60, 80, 91, 81, 4, 73, 51, 32, 77, 6]\n",
            "[4, 6, 32, 51, 60, 68, 73, 77, 77, 80, 81, 91]\n",
            "[91, 81, 80, 77, 77, 73, 68, 60, 51, 32, 6, 4]\n",
            "58.333333333333336\n"
          ],
          "name": "stdout"
        }
      ]
    },
    {
      "cell_type": "markdown",
      "metadata": {
        "id": "1F_PZdH9Sh49"
      },
      "source": [
        "1# Question 2\n",
        "(25 points). Write a program that will do the following string formatting tasks:\n",
        "\n",
        "(1) Ask the user to enter two sentences.\n",
        "\n",
        "(2) Make each sentence into a list. Each element in the list should correspond to a word in the sentence. For example, if the sentence is \"Alas! Am I alive? This is my first python program\", the program should print out ['Alas, '!', 'Am', 'I', 'alive, '?', 'This', 'is', 'my', 'first', 'python', 'program'].\n",
        "\n",
        "(3) Compare the two sentences. Print out a list of words that occur in both sentences.\n",
        "\n",
        "(4) Remove any punctuation from the sentence and print it back out. It should remove at least the following characters, but it can remove more: period(“.”), comma (“,”), semicolon (“;”), and colon (“:”)\n",
        "\n",
        "(5) Count the number of vowels in the sentences. Print out each vowel and the number of times it appears in the sentences, such as: a:2, e:1, i:0, etc"
      ]
    },
    {
      "cell_type": "code",
      "metadata": {
        "colab": {
          "base_uri": "https://localhost:8080/"
        },
        "id": "Y0oOSlsOS0cq",
        "outputId": "a00630fa-6865-4a8b-d217-6d0931d9d114"
      },
      "source": [
        "# Your code here\n",
        "import re\n",
        "sent1=input('Please type in sentence No.1:')\n",
        "sent2=input('Please type in sentence No.2:')\n",
        "extrac1=re.findall(r\"[\\w']+|[.,:!?;]\", sent1)\n",
        "extrac2=re.findall(r\"[\\w']+|[.,:!?;]\", sent2)\n",
        "print(extrac1)\n",
        "print(extrac2)\n",
        "for x in extrac1:\n",
        "  for y in extrac2:\n",
        "    if x==y:\n",
        "      print(x)\n",
        "puctu=[',','.',':',';']\n",
        "for z in puctu:\n",
        "  sent1=sent1.replace(z,' ')\n",
        "  sent2=sent2.replace(z,' ')\n",
        "print(sent1)\n",
        "print(sent2)\n",
        "\n",
        "def Check_Vow(string, vowels): \n",
        "      \n",
        "  # casefold has been used to ignore cases \n",
        "  string = string.casefold() \n",
        "      \n",
        "  # Forms a dictionary with key as a vowel \n",
        "  # and the value as 0 \n",
        "  count = {}.fromkeys(vowels, 0) \n",
        "      \n",
        "  # To count the vowels \n",
        "  for character in string: \n",
        "    if character in count: \n",
        "      count[character] += 1    \n",
        "  return count \n",
        "      \n",
        "\n",
        "vowels = 'aeiou'\n",
        "print(Check_Vow(sent1, vowels)) \n",
        "print(Check_Vow(sent2, vowels))"
      ],
      "execution_count": 70,
      "outputs": [
        {
          "output_type": "stream",
          "text": [
            "Please type in sentence No.1:How, are: You\n",
            "Please type in sentence No.2:How, old; You\n",
            "['How', ',', 'are', ':', 'You']\n",
            "['How', ',', 'old', ';', 'You']\n",
            "How\n",
            ",\n",
            "You\n",
            "How  are  You\n",
            "How  old  You\n",
            "{'a': 1, 'e': 1, 'i': 0, 'o': 2, 'u': 1}\n",
            "{'a': 0, 'e': 0, 'i': 0, 'o': 3, 'u': 1}\n"
          ],
          "name": "stdout"
        }
      ]
    },
    {
      "cell_type": "markdown",
      "metadata": {
        "id": "CmFoI4jDS9nx"
      },
      "source": [
        "# Question 3 \n",
        "\n",
        "(15 points). The formula that describes the volume V of a sphere with radius r is the following:\n",
        "\n",
        "$ V=\\frac{4}{3}\\ast\\ \\pi\\ast\\ r^3 $\n",
        "\n",
        "Write a program to calculate the value of V when r is in the range of 1–10. Output the result in the following format:\n",
        "\n",
        "\tr\tV\n",
        "\t1\t…\n",
        "\t2\t…\n",
        "\t3\t…\n"
      ]
    },
    {
      "cell_type": "code",
      "metadata": {
        "colab": {
          "base_uri": "https://localhost:8080/"
        },
        "id": "pEyqeioAT95b",
        "outputId": "c4b5c49c-6440-4549-f442-d52e3faec5ea"
      },
      "source": [
        "# Your code here\n",
        "import math\n",
        "print('r','V',sep=' ')\n",
        "for r in range(1,11):\n",
        "  V=4/3*math.pi*r**3\n",
        "  print(r,V,sep=' ')"
      ],
      "execution_count": null,
      "outputs": [
        {
          "output_type": "stream",
          "text": [
            "r V\n",
            "1 4.1887902047863905\n",
            "2 33.510321638291124\n",
            "3 113.09733552923254\n",
            "4 268.082573106329\n",
            "5 523.5987755982989\n",
            "6 904.7786842338603\n",
            "7 1436.7550402417319\n",
            "8 2144.660584850632\n",
            "9 3053.6280592892786\n",
            "10 4188.790204786391\n"
          ],
          "name": "stdout"
        }
      ]
    },
    {
      "cell_type": "code",
      "metadata": {
        "id": "pMCr3l8tnu0j"
      },
      "source": [
        ""
      ],
      "execution_count": null,
      "outputs": []
    },
    {
      "cell_type": "markdown",
      "metadata": {
        "id": "z3tBE7E-Xn5X"
      },
      "source": [
        "# Question 4\n",
        "\n",
        "(40 points). In the field of Data Science, data is often formatted as a comma-delimited (CSV) file, where each line in a file corresponds to a field's value. Refer to Chapter 9 (p. 106) for more information on comma-delimited files. To answer this question, you will need to download the file [Assignment1_denton_housing.csv](https://github.com/unt-iialab/info5731_spring2021/blob/main/assignment/Assignment1_denton_housing.csv) included with this assignment. The file [Assignment1_denton_housing.csv](https://github.com/unt-iialab/info5731_spring2021/blob/main/assignment/Assignment1_denton_housing.csv) contains statistics about housing in the city of Denton from 2008 to 2014. Write a program to implement the following questions.\n",
        "\n",
        "(1) (10 pts) Calculate the difference in the number of Occupied Housing Units from year to year and print it. The difference must be calculated for the consecutive years such as 2008-2009, 2009-2010 etc. Finally, print the values in the ascending order.\n",
        "\n",
        "(2) (10 pts) For all the years, calculate the percentage of housing units which are vacant an occupied. Print the results in the following format:\n",
        "\n",
        "Year Vacant Housing Units Occupied Housing Units\n",
        "\n",
        "    2008  30%   70%                          \n",
        "\t2009 ----- -----\n",
        "\t2010 ----- -----\n",
        "    2011 ----- -----\n",
        "\t2012 ----- -----\n",
        "    2013 ----- -----\n",
        "\t2014 ----- -----\n",
        "  \n",
        "  \n",
        "\n",
        "(3) (10 pts) Calculate and print the valued and years in which the highest number of housing units were vacant and occupied. Print the results in the following format:  \n",
        "\n",
        "                              Year\tValue\n",
        "\tVacant Housing Units\t  -----   -----\n",
        "\tOccupied Housing Units\t-----   -----\n",
        "\n",
        "(4) (10 pts) Calculate the harmonic mean of the total housing units and print it out. You can find the information about harmonic mean here: https://ncalculators.com/statistics/harmonic-mean-calculator.htm"
      ]
    },
    {
      "cell_type": "code",
      "metadata": {
        "colab": {
          "base_uri": "https://localhost:8080/",
          "height": 562
        },
        "id": "1clV1s_kACgK",
        "outputId": "ae67c352-8cad-4306-ffe8-bbcca66baeda"
      },
      "source": [
        "# for question (1)\r\n",
        "!pip install pandas\r\n",
        "import pandas as pd\r\n",
        "denton_housing=pd.read_csv(r'https://raw.githubusercontent.com/unt-iialab/info5731_spring2021/main/assignment/Assignment1_denton_housing.csv')\r\n",
        "denton_housing.head()\r\n",
        "occupied=denton_housing[denton_housing[\"title_field\"].isin([\"Occupied Housing Units\"])]\r\n",
        "print(occupied)\r\n",
        "for i in range(1,7):\r\n",
        "  diff=denton_housing.iloc[20-i*3,2]-denton_housing.iloc[23-i*3,2]\r\n",
        "  i=i+1\r\n",
        "  #diff.append()\r\n",
        "  print(diff)\r\n",
        "  \r\n",
        "import csv\r\n",
        "with open('difference.csv','w',newline='') as file:\r\n",
        "  writer=csv.writer(file)\r\n",
        "  writer.writerow([\"Year\",\"Difference\"])\r\n",
        "  writer.writerow([\"2009-2008\",\"-795\"])\r\n",
        "  writer.writerow([\"2010-2009\",\"5091\"])\r\n",
        "  writer.writerow([\"2011-2010\",\"-303\"])\r\n",
        "  writer.writerow([\"2012-2011\",\"1404\"])\r\n",
        "  writer.writerow([\"2013-2012\",\"1565\"])\r\n",
        "  writer.writerow([\"2014-2013\",\"2622\"])\r\n",
        "differ=pd.read_csv(\"difference.csv\")\r\n",
        "\r\n",
        "differ.sort_values([\"Difference\"],ascending=True)"
      ],
      "execution_count": 43,
      "outputs": [
        {
          "output_type": "stream",
          "text": [
            "Requirement already satisfied: pandas in /usr/local/lib/python3.6/dist-packages (1.1.5)\n",
            "Requirement already satisfied: python-dateutil>=2.7.3 in /usr/local/lib/python3.6/dist-packages (from pandas) (2.8.1)\n",
            "Requirement already satisfied: numpy>=1.15.4 in /usr/local/lib/python3.6/dist-packages (from pandas) (1.19.5)\n",
            "Requirement already satisfied: pytz>=2017.2 in /usr/local/lib/python3.6/dist-packages (from pandas) (2018.9)\n",
            "Requirement already satisfied: six>=1.5 in /usr/local/lib/python3.6/dist-packages (from python-dateutil>=2.7.3->pandas) (1.15.0)\n",
            "    year             title_field  value\n",
            "2   2014  Occupied Housing Units  46295\n",
            "5   2013  Occupied Housing Units  43673\n",
            "8   2012  Occupied Housing Units  42108\n",
            "11  2011  Occupied Housing Units  40704\n",
            "14  2010  Occupied Housing Units  41007\n",
            "17  2009  Occupied Housing Units  35916\n",
            "20  2008  Occupied Housing Units  36711\n",
            "-795\n",
            "5091\n",
            "-303\n",
            "1404\n",
            "1565\n",
            "2622\n"
          ],
          "name": "stdout"
        },
        {
          "output_type": "execute_result",
          "data": {
            "text/html": [
              "<div>\n",
              "<style scoped>\n",
              "    .dataframe tbody tr th:only-of-type {\n",
              "        vertical-align: middle;\n",
              "    }\n",
              "\n",
              "    .dataframe tbody tr th {\n",
              "        vertical-align: top;\n",
              "    }\n",
              "\n",
              "    .dataframe thead th {\n",
              "        text-align: right;\n",
              "    }\n",
              "</style>\n",
              "<table border=\"1\" class=\"dataframe\">\n",
              "  <thead>\n",
              "    <tr style=\"text-align: right;\">\n",
              "      <th></th>\n",
              "      <th>Year</th>\n",
              "      <th>Difference</th>\n",
              "    </tr>\n",
              "  </thead>\n",
              "  <tbody>\n",
              "    <tr>\n",
              "      <th>0</th>\n",
              "      <td>2009-2008</td>\n",
              "      <td>-795</td>\n",
              "    </tr>\n",
              "    <tr>\n",
              "      <th>2</th>\n",
              "      <td>2011-2010</td>\n",
              "      <td>-303</td>\n",
              "    </tr>\n",
              "    <tr>\n",
              "      <th>3</th>\n",
              "      <td>2012-2011</td>\n",
              "      <td>1404</td>\n",
              "    </tr>\n",
              "    <tr>\n",
              "      <th>4</th>\n",
              "      <td>2013-2012</td>\n",
              "      <td>1565</td>\n",
              "    </tr>\n",
              "    <tr>\n",
              "      <th>5</th>\n",
              "      <td>2014-2013</td>\n",
              "      <td>2622</td>\n",
              "    </tr>\n",
              "    <tr>\n",
              "      <th>1</th>\n",
              "      <td>2010-2009</td>\n",
              "      <td>5091</td>\n",
              "    </tr>\n",
              "  </tbody>\n",
              "</table>\n",
              "</div>"
            ],
            "text/plain": [
              "        Year  Difference\n",
              "0  2009-2008        -795\n",
              "2  2011-2010        -303\n",
              "3  2012-2011        1404\n",
              "4  2013-2012        1565\n",
              "5  2014-2013        2622\n",
              "1  2010-2009        5091"
            ]
          },
          "metadata": {
            "tags": []
          },
          "execution_count": 43
        }
      ]
    },
    {
      "cell_type": "code",
      "metadata": {
        "id": "gSPjhpJjuGbq",
        "colab": {
          "base_uri": "https://localhost:8080/",
          "height": 263
        },
        "outputId": "d9f6b4bf-3fb4-4b4b-e1be-b52195252c29"
      },
      "source": [
        "# for question (2)\r\n",
        "import pandas as pd\r\n",
        "import csv\r\n",
        "with open('percentage.csv','w',newline='')as file:\r\n",
        "  writer=csv.writer(file)\r\n",
        "  writer.writerow([\"Year\",\"Vacant\",\"Occupied\",\"Total\"])\r\n",
        "  writer.writerow([\"2014\",\"2814\",\"46295\",\"49109\"])\r\n",
        "  writer.writerow([\"2013\",\"4215\",\"43673\",\"47888\"])\r\n",
        "  writer.writerow([\"2012\",\"3013\",\"42108\",\"45121\"])\r\n",
        "  writer.writerow([\"2011\",\"4213\",\"40704\",\"44917\"])\r\n",
        "  writer.writerow([\"2010\",\"3635\",\"41007\",\"44642\"])\r\n",
        "  writer.writerow([\"2009\",\"3583\",\"35916\",\"39499\"])\r\n",
        "  writer.writerow([\"2008\",\"4483\",\"36711\",\"41194\"])\r\n",
        "percent=pd.read_csv(\"percentage.csv\")\r\n",
        "percent[\"Vacant Housing Units\"]=(percent[\"Vacant\"]/percent[\"Total\"])*100\r\n",
        "percent[\"Occupied Housing Units\"]=(percent[\"Occupied\"]/percent[\"Total\"])*100\r\n",
        "sub=percent[[\"Year\",\"Vacant Housing Units\",\"Occupied Housing Units\"]]\r\n",
        "sub"
      ],
      "execution_count": 45,
      "outputs": [
        {
          "output_type": "execute_result",
          "data": {
            "text/html": [
              "<div>\n",
              "<style scoped>\n",
              "    .dataframe tbody tr th:only-of-type {\n",
              "        vertical-align: middle;\n",
              "    }\n",
              "\n",
              "    .dataframe tbody tr th {\n",
              "        vertical-align: top;\n",
              "    }\n",
              "\n",
              "    .dataframe thead th {\n",
              "        text-align: right;\n",
              "    }\n",
              "</style>\n",
              "<table border=\"1\" class=\"dataframe\">\n",
              "  <thead>\n",
              "    <tr style=\"text-align: right;\">\n",
              "      <th></th>\n",
              "      <th>Year</th>\n",
              "      <th>Vacant Housing Units</th>\n",
              "      <th>Occupied Housing Units</th>\n",
              "    </tr>\n",
              "  </thead>\n",
              "  <tbody>\n",
              "    <tr>\n",
              "      <th>0</th>\n",
              "      <td>2014</td>\n",
              "      <td>5.730111</td>\n",
              "      <td>94.269889</td>\n",
              "    </tr>\n",
              "    <tr>\n",
              "      <th>1</th>\n",
              "      <td>2013</td>\n",
              "      <td>8.801788</td>\n",
              "      <td>91.198212</td>\n",
              "    </tr>\n",
              "    <tr>\n",
              "      <th>2</th>\n",
              "      <td>2012</td>\n",
              "      <td>6.677600</td>\n",
              "      <td>93.322400</td>\n",
              "    </tr>\n",
              "    <tr>\n",
              "      <th>3</th>\n",
              "      <td>2011</td>\n",
              "      <td>9.379522</td>\n",
              "      <td>90.620478</td>\n",
              "    </tr>\n",
              "    <tr>\n",
              "      <th>4</th>\n",
              "      <td>2010</td>\n",
              "      <td>8.142556</td>\n",
              "      <td>91.857444</td>\n",
              "    </tr>\n",
              "    <tr>\n",
              "      <th>5</th>\n",
              "      <td>2009</td>\n",
              "      <td>9.071116</td>\n",
              "      <td>90.928884</td>\n",
              "    </tr>\n",
              "    <tr>\n",
              "      <th>6</th>\n",
              "      <td>2008</td>\n",
              "      <td>10.882653</td>\n",
              "      <td>89.117347</td>\n",
              "    </tr>\n",
              "  </tbody>\n",
              "</table>\n",
              "</div>"
            ],
            "text/plain": [
              "   Year  Vacant Housing Units  Occupied Housing Units\n",
              "0  2014              5.730111               94.269889\n",
              "1  2013              8.801788               91.198212\n",
              "2  2012              6.677600               93.322400\n",
              "3  2011              9.379522               90.620478\n",
              "4  2010              8.142556               91.857444\n",
              "5  2009              9.071116               90.928884\n",
              "6  2008             10.882653               89.117347"
            ]
          },
          "metadata": {
            "tags": []
          },
          "execution_count": 45
        }
      ]
    },
    {
      "cell_type": "code",
      "metadata": {
        "colab": {
          "base_uri": "https://localhost:8080/"
        },
        "id": "ynTPCGcW6rRv",
        "outputId": "194de73d-7ad8-4a38-e9d8-3b5f7d8d2cba"
      },
      "source": [
        "# for question(3)\r\n",
        "import pandas as pd\r\n",
        "percent=pd.read_csv(\"percentage.csv\")\r\n",
        "percent.sort_values([\"Vacant\"], axis=0, \r\n",
        "                 ascending=False, inplace=True)\r\n",
        "\r\n",
        "print(percent.head(1))\r\n",
        "percent.sort_values([\"Occupied\"],ascending=False, inplace=True)\r\n",
        "print(percent.head(1))\r\n",
        "\r\n",
        "dataset={\" \":[\"Vacant Housing Units\",\"Occupied Housing Units\"],\"Year\":[\"2008\",\"2014\"],\"Value\":[\"4483\",\"46295\"]}\r\n",
        "max=pd.DataFrame(dataset)\r\n",
        "print(max)"
      ],
      "execution_count": 60,
      "outputs": [
        {
          "output_type": "stream",
          "text": [
            "   Year  Vacant  Occupied  Total\n",
            "6  2008    4483     36711  41194\n",
            "   Year  Vacant  Occupied  Total\n",
            "0  2014    2814     46295  49109\n",
            "/n\n",
            "                           Year  Value\n",
            "0    Vacant Housing Units  2008   4483\n",
            "1  Occupied Housing Units  2014  46295\n"
          ],
          "name": "stdout"
        }
      ]
    },
    {
      "cell_type": "code",
      "metadata": {
        "colab": {
          "base_uri": "https://localhost:8080/"
        },
        "id": "yMFFQXj4C8oY",
        "outputId": "b6673828-5fe4-421b-972c-5b9d04db0f3a"
      },
      "source": [
        "# for question (4)\r\n",
        "import pandas as pd\r\n",
        "percent=pd.read_csv(\"percentage.csv\")\r\n",
        "percent[\"Flip\"]=(1/percent[\"Total\"])\r\n",
        "percent.head()\r\n",
        "a=percent[\"Flip\"].mean()\r\n",
        "print(1/a)"
      ],
      "execution_count": 67,
      "outputs": [
        {
          "output_type": "stream",
          "text": [
            "44398.28543969185\n"
          ],
          "name": "stdout"
        }
      ]
    }
  ]
}