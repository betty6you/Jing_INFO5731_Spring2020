{
  "nbformat": 4,
  "nbformat_minor": 0,
  "metadata": {
    "kernelspec": {
      "display_name": "Python 3",
      "language": "python",
      "name": "python3"
    },
    "language_info": {
      "codemirror_mode": {
        "name": "ipython",
        "version": 3
      },
      "file_extension": ".py",
      "mimetype": "text/x-python",
      "name": "python",
      "nbconvert_exporter": "python",
      "pygments_lexer": "ipython3",
      "version": "3.8.5"
    },
    "colab": {
      "name": "In_class_exercise_07.ipynb",
      "provenance": [],
      "toc_visible": true,
      "include_colab_link": true
    }
  },
  "cells": [
    {
      "cell_type": "markdown",
      "metadata": {
        "id": "view-in-github",
        "colab_type": "text"
      },
      "source": [
        "<a href=\"https://colab.research.google.com/github/betty6you/Jing_INFO5731_Spring2020/blob/main/In_class_exercise_07.ipynb\" target=\"_parent\"><img src=\"https://colab.research.google.com/assets/colab-badge.svg\" alt=\"Open In Colab\"/></a>"
      ]
    },
    {
      "cell_type": "markdown",
      "metadata": {
        "id": "WlRcZbbEF1Qx"
      },
      "source": [
        "# **The seventh in-class-exercise (20 points in total, 3/16/2021)**"
      ]
    },
    {
      "cell_type": "markdown",
      "metadata": {
        "id": "NMI7lB3iF1Q-"
      },
      "source": [
        "Question description: In the last in-class-exercise (exercise-06), you collected the titles of 100 articles about data science, natural language processing, and machine learning. The 100 article titles will be used as the text corpus of this exercise. Perform the following tasks:"
      ]
    },
    {
      "cell_type": "markdown",
      "metadata": {
        "id": "hayoiYLHF1Q_"
      },
      "source": [
        "## (1) (8 points) Generate K topics by using LDA, the number of topics K should be decided by the coherence score, then summarize what are the topics. You may refer the code here: \n",
        "\n",
        "https://www.machinelearningplus.com/nlp/topic-modeling-gensim-python/"
      ]
    },
    {
      "cell_type": "code",
      "metadata": {
        "id": "ThnUGfevF1RB"
      },
      "source": [
        "# Write your code here\n",
        "\n",
        "import urllib.request\n",
        "from bs4 import BeautifulSoup\n",
        "import pandas as pd\n",
        "import csv\n",
        "import nltk \n",
        "import spacy \n",
        "from spacy.matcher import Matcher \n",
        "from spacy import displacy\n",
        "from spacy.tokens import Span \n",
        "import math  \n",
        "import string  \n",
        "from tqdm import tqdm \n",
        "import re\n",
        "import numpy as np \n",
        "\n",
        "mybaseURL=\"https://pubmed.ncbi.nlm.nih.gov/?term=chinese%20medicine%20epilepsy&page=\"\n",
        "starURL=[]\n",
        "newtitle=[]\n",
        "for i in range(1,11):\n",
        "  starURL=mybaseURL+str(i)\n",
        "\n",
        "  with urllib.request.urlopen(starURL) as f:\n",
        "    webpage=f.read()\n",
        "    soup=BeautifulSoup(webpage)\n",
        "  #print(soup)\n",
        "    \n",
        "  for item in soup.select('[data-rel-pos]'):\n",
        "    newtitle.append(item.select('a.docsum-title')[0].get_text()) # The title of the article\n",
        "    \n",
        "df = pd.DataFrame({'Titles':newtitle})\n",
        "df.to_csv('newtitle.csv',index = False)\n"
      ],
      "execution_count": 5,
      "outputs": []
    },
    {
      "cell_type": "code",
      "metadata": {
        "colab": {
          "base_uri": "https://localhost:8080/"
        },
        "id": "fDn9lXF1R4-9",
        "outputId": "d70c0603-a4f6-463f-936c-73fcdcdd0c5c"
      },
      "source": [
        "from nltk.tokenize import RegexpTokenizer\n",
        "\n",
        "from nltk.stem.porter import PorterStemmer\n",
        "from gensim import corpora, models\n",
        "import gensim\n",
        "\n",
        "tokenizer = RegexpTokenizer(r'\\w+')\n",
        "\n",
        "# create English stop words list\n",
        "from nltk.corpus import stopwords\n",
        "stop_words = stopwords.words('english')\n",
        "stop_words.extend(['from', 'subject', 're', 'edu', 'use'])\n",
        "\n",
        "# Create p_stemmer of class PorterStemmer\n",
        "p_stemmer = PorterStemmer()\n",
        "    \n",
        "doc_set = newtitle\n",
        "\n",
        "# list for tokenized documents in loop\n",
        "texts = []\n",
        "\n",
        "# loop through document list\n",
        "for i in doc_set:\n",
        "    \n",
        "    # clean and tokenize document string\n",
        "    raw = i.lower()\n",
        "    tokens = tokenizer.tokenize(raw)\n",
        "\n",
        "    # remove stop words from tokens\n",
        "    stopped_tokens = [i for i in tokens if not i in stop_words]\n",
        "    \n",
        "    # stem tokens\n",
        "    stemmed_tokens = [p_stemmer.stem(i) for i in stopped_tokens]\n",
        "    \n",
        "    # add tokens to list\n",
        "    texts.append(stemmed_tokens)\n",
        "\n",
        "# turn our tokenized documents into a id <-> term dictionary\n",
        "dictionary = corpora.Dictionary(texts)\n",
        "print(dictionary)\n",
        "# convert tokenized documents into a document-term matrix\n",
        "corpus = [dictionary.doc2bow(text) for text in texts]\n",
        "print(corpus)\n",
        "# generate LDA model\n",
        "ldamodel = gensim.models.ldamodel.LdaModel(corpus, num_topics=11, id2word = dictionary, passes=20)\n",
        "print(ldamodel.print_topics(num_topics=8, num_words=4))"
      ],
      "execution_count": 36,
      "outputs": [
        {
          "output_type": "stream",
          "text": [
            "Dictionary(437 unique tokens: ['activ', 'chines', 'epilepsi', 'ingredi', 'mechan']...)\n",
            "[[(0, 1), (1, 1), (2, 1), (3, 1), (4, 1), (5, 1), (6, 1), (7, 1), (8, 1)], [(1, 1), (2, 1), (5, 1), (7, 1), (9, 1)], [(1, 1), (2, 1), (5, 1), (7, 1), (10, 1), (11, 1), (12, 1), (13, 1), (14, 1)], [(1, 1), (2, 1), (5, 1), (7, 1)], [(2, 1), (15, 1), (16, 1)], [(1, 1), (2, 1), (5, 1), (7, 1), (17, 1), (18, 1), (19, 1), (20, 1), (21, 1)], [(1, 1), (2, 1), (22, 1), (23, 1), (24, 1), (25, 1), (26, 1), (27, 1), (28, 1), (29, 1), (30, 1)], [(2, 1), (8, 1), (14, 1), (31, 1), (32, 1), (33, 1), (34, 1), (35, 1), (36, 1), (37, 1), (38, 1), (39, 1), (40, 1), (41, 1), (42, 1), (43, 1)], [(2, 1), (35, 1), (44, 1)], [(1, 1), (2, 2), (41, 1), (45, 1), (46, 1), (47, 1), (48, 1), (49, 1), (50, 1), (51, 1), (52, 1)], [(2, 1), (14, 1), (53, 1), (54, 1), (55, 1), (56, 1), (57, 1), (58, 1), (59, 1), (60, 1)], [(1, 1), (2, 1), (61, 1)], [(2, 1), (20, 1), (45, 1), (62, 1), (63, 1), (64, 1), (65, 1), (66, 1), (67, 1)], [(2, 1), (35, 1), (44, 1), (68, 1), (69, 1), (70, 1), (71, 1), (72, 1), (73, 1), (74, 1), (75, 1), (76, 1), (77, 1), (78, 1)], [(2, 1), (14, 1), (59, 1), (79, 1), (80, 1), (81, 1), (82, 1), (83, 1), (84, 1), (85, 1)], [(1, 1), (2, 1), (16, 1), (41, 1), (86, 1), (87, 1), (88, 1), (89, 1), (90, 1)], [(2, 2), (14, 1), (22, 1), (72, 1), (77, 1), (79, 1), (91, 1), (92, 1), (93, 1), (94, 1), (95, 2), (96, 1)], [(1, 1), (5, 1), (7, 1), (97, 1), (98, 1), (99, 1), (100, 1), (101, 1)], [(1, 1), (2, 1), (5, 1), (7, 1), (102, 1)], [(2, 1), (19, 1), (103, 1), (104, 1), (105, 1), (106, 1), (107, 1), (108, 1)], [(1, 1), (2, 1), (5, 1), (7, 1), (14, 1), (109, 1)], [(2, 1), (22, 1), (93, 1), (110, 1), (111, 1), (112, 1), (113, 1), (114, 1), (115, 1), (116, 1)], [(20, 1), (32, 1), (35, 1), (117, 1), (118, 1), (119, 1), (120, 1)], [(1, 1), (2, 1), (46, 1), (47, 1), (87, 1), (121, 1), (122, 1), (123, 1)], [(1, 1), (2, 1), (64, 1), (124, 1), (125, 1), (126, 1), (127, 1), (128, 1), (129, 1), (130, 1)], [(2, 1), (100, 1), (131, 1), (132, 1), (133, 1), (134, 1), (135, 1), (136, 1), (137, 1)], [(2, 1), (138, 1), (139, 1), (140, 1)], [(1, 1), (2, 1), (5, 1), (7, 1), (14, 1)], [(2, 1), (5, 1), (18, 1), (141, 1)], [(1, 1), (2, 1), (5, 1), (7, 1), (14, 1), (60, 1), (81, 1), (142, 1), (143, 1)], [(2, 1), (14, 1), (20, 1), (45, 1), (59, 1), (65, 1), (67, 1), (95, 1), (144, 1), (145, 1), (146, 1), (147, 1), (148, 1), (149, 1)], [(2, 1), (106, 1), (150, 1), (151, 1), (152, 1), (153, 1)], [(1, 1), (2, 1), (32, 1), (35, 1), (45, 1), (89, 1), (99, 1), (154, 1), (155, 1), (156, 1), (157, 1), (158, 1)], [(2, 1), (159, 1), (160, 1)], [(1, 1), (2, 1), (123, 1), (161, 1)], [(1, 1), (2, 1), (20, 1), (45, 1), (46, 1), (65, 1), (67, 1), (87, 1), (123, 1), (161, 1), (162, 1), (163, 1)], [(1, 1), (2, 1), (41, 1), (123, 1), (164, 1), (165, 1), (166, 1), (167, 1), (168, 1)], [(2, 1), (50, 1), (169, 1), (170, 1), (171, 1), (172, 1), (173, 1), (174, 1), (175, 1)], [(1, 1), (2, 1), (22, 1), (42, 1), (66, 1), (100, 1), (176, 1), (177, 1), (178, 1), (179, 1)], [(32, 1), (35, 2), (46, 1), (52, 1), (63, 1), (64, 1), (154, 1), (180, 1), (181, 1), (182, 1), (183, 1), (184, 1)], [(1, 1), (2, 1), (22, 1), (45, 1), (47, 1), (185, 1), (186, 1), (187, 1), (188, 1), (189, 1), (190, 1)], [(1, 1), (2, 1), (5, 1), (7, 1), (16, 1), (118, 1), (191, 1), (192, 1), (193, 1), (194, 1), (195, 1), (196, 1)], [(2, 1), (197, 1)], [(198, 1), (199, 1), (200, 1), (201, 1)], [(2, 1), (59, 1), (109, 1), (202, 1), (203, 1)], [(1, 1), (2, 1), (5, 1), (7, 1), (14, 1), (109, 1)], [(1, 1), (2, 1), (41, 1), (46, 1), (154, 1), (182, 1), (204, 1), (205, 1), (206, 1), (207, 2), (208, 1), (209, 1), (210, 1), (211, 1)], [(2, 1), (198, 1), (212, 1), (213, 1), (214, 1)], [(1, 1), (2, 1), (41, 1), (46, 1), (87, 1), (208, 1), (215, 1), (216, 1), (217, 1), (218, 1)], [(1, 1), (2, 1), (87, 1), (219, 1), (220, 1), (221, 1), (222, 1), (223, 1), (224, 1)], [(1, 1), (2, 1), (129, 1), (148, 1), (225, 2), (226, 1), (227, 1), (228, 1), (229, 1), (230, 1)], [(2, 1), (15, 1), (88, 1), (120, 1), (231, 1), (232, 1)], [(1, 1), (2, 1), (129, 1), (130, 1), (228, 1), (233, 1), (234, 1), (235, 1), (236, 1), (237, 1), (238, 1), (239, 1)], [(2, 1), (45, 1), (84, 1), (85, 1), (91, 1), (218, 1), (240, 1), (241, 1), (242, 2), (243, 1)], [(2, 1), (70, 1), (72, 1), (77, 1), (80, 1), (85, 1), (96, 1), (244, 2), (245, 1)], [(2, 1), (197, 1)], [(1, 1), (2, 1), (79, 1), (127, 1), (129, 1), (130, 1), (234, 1), (246, 1), (247, 1)], [(2, 1), (4, 1), (45, 1), (248, 1), (249, 1), (250, 1), (251, 2), (252, 1), (253, 1)], [(1, 1), (2, 1), (5, 1), (44, 1), (46, 1), (99, 1), (155, 1), (191, 1), (254, 1), (255, 1), (256, 1), (257, 1), (258, 1), (259, 1), (260, 1), (261, 1), (262, 1), (263, 1), (264, 1)], [(1, 1), (2, 1), (5, 1), (7, 1), (14, 1), (15, 1), (22, 1)], [(2, 1), (14, 1), (161, 1), (265, 1), (266, 1), (267, 1), (268, 1), (269, 1), (270, 1)], [(1, 1), (2, 1), (41, 1), (149, 1), (271, 1), (272, 1), (273, 1), (274, 1), (275, 1)], [(1, 1), (2, 1), (15, 1), (20, 1), (47, 1), (189, 1), (271, 1), (276, 1), (277, 1), (278, 1), (279, 1), (280, 1), (281, 1), (282, 1)], [(1, 1), (2, 1), (64, 1), (129, 1), (130, 1), (228, 1), (233, 1), (234, 1), (235, 1), (236, 1), (237, 1), (238, 1), (283, 1)], [(2, 1), (35, 1), (109, 1), (120, 1), (196, 1), (284, 1), (285, 1)], [(1, 1), (2, 1), (41, 1), (42, 1), (286, 1), (287, 1), (288, 1), (289, 1), (290, 1), (291, 1), (292, 1)], [(2, 1), (20, 1), (176, 1), (177, 1), (277, 1)], [(1, 1), (2, 1), (5, 1), (155, 1), (293, 1), (294, 1), (295, 1)], [(2, 1), (35, 1), (44, 1), (196, 1), (296, 1), (297, 1)], [(1, 1), (2, 1), (298, 1), (299, 1), (300, 1), (301, 1), (302, 1), (303, 1), (304, 1), (305, 1), (306, 1)], [(1, 1), (2, 1), (41, 1), (45, 1), (52, 1), (161, 1), (307, 1), (308, 1), (309, 1), (310, 1), (311, 1), (312, 1), (313, 1)], [(2, 1), (20, 1), (64, 1), (66, 1), (67, 1), (148, 1), (314, 1)], [(1, 1), (2, 1), (22, 1), (80, 1), (315, 1), (316, 1), (317, 1), (318, 1), (319, 1)], [(2, 1), (48, 1), (51, 1), (189, 1), (198, 1), (320, 1), (321, 1), (322, 1), (323, 1), (324, 1), (325, 1)], [(1, 1), (2, 1), (129, 1), (130, 1), (147, 1), (149, 1), (236, 1), (239, 1), (326, 1), (327, 1), (328, 1)], [(1, 1), (2, 1), (35, 1), (44, 1), (46, 1), (87, 1), (122, 1), (162, 1), (329, 1)], [(2, 1), (197, 1)], [(2, 1), (79, 1), (271, 1), (330, 1), (331, 1), (332, 1)], [(2, 1), (196, 1), (333, 1)], [(2, 1), (78, 1), (334, 1), (335, 1), (336, 1), (337, 1)], [(2, 1), (5, 1), (78, 1), (100, 1), (101, 1), (155, 1), (230, 1), (338, 1), (339, 1), (340, 1), (341, 1), (342, 1), (343, 1)], [(1, 1), (2, 1), (5, 1), (14, 1), (42, 1), (78, 1), (80, 1), (155, 1), (343, 1), (344, 1), (345, 1), (346, 1), (347, 1), (348, 1)], [(1, 1), (41, 1), (45, 1), (47, 1), (51, 1), (189, 1), (349, 1), (350, 1), (351, 1), (352, 1), (353, 1), (354, 1)], [(2, 1), (14, 1), (45, 1), (65, 1), (155, 1), (197, 1)], [(2, 1), (45, 1), (46, 1), (65, 1), (87, 1), (355, 1), (356, 1), (357, 1)], [(1, 1), (2, 1), (46, 1), (122, 1), (123, 1), (133, 1), (137, 1), (235, 1), (358, 1), (359, 1), (360, 1), (361, 1), (362, 1)], [(97, 1), (249, 1), (287, 1), (363, 1), (364, 1), (365, 1), (366, 1), (367, 1), (368, 1), (369, 1), (370, 1)], [(1, 1), (2, 1), (52, 1), (169, 1), (265, 1), (279, 1), (288, 1), (371, 1), (372, 1), (373, 1), (374, 1), (375, 1), (376, 1), (377, 1), (378, 1), (379, 1), (380, 1)], [(1, 1), (5, 1), (7, 1), (381, 1), (382, 1), (383, 1)], [(5, 1), (13, 1), (384, 1), (385, 1), (386, 1), (387, 1), (388, 1)], [(1, 1), (2, 1), (42, 1), (44, 1), (46, 1), (47, 1), (87, 1), (122, 1), (260, 1), (329, 1), (389, 1), (390, 1)], [(1, 1), (2, 1), (26, 1), (27, 1), (271, 1), (391, 1), (392, 1), (393, 1), (394, 1), (395, 1), (396, 1), (397, 1), (398, 1), (399, 1), (400, 1), (401, 1)], [(1, 1), (2, 1), (35, 1), (42, 1), (44, 1), (46, 1), (47, 1), (87, 1), (122, 1), (123, 1), (402, 1), (403, 1), (404, 1)], [(2, 1), (396, 1), (405, 1), (406, 1), (407, 1), (408, 1), (409, 1)], [(2, 1), (46, 1), (100, 1), (189, 1), (279, 1), (410, 1), (411, 1), (412, 1)], [(2, 1), (25, 1), (230, 1), (413, 1), (414, 1), (415, 1), (416, 1)], [(1, 1), (2, 1), (33, 1), (34, 1), (39, 1), (41, 1), (156, 1), (417, 1), (418, 1), (419, 1)], [(1, 1), (2, 1), (14, 1), (38, 1), (104, 1), (420, 1), (421, 1), (422, 1), (423, 1), (424, 1)], [(2, 1), (350, 1), (354, 1), (391, 1), (425, 1), (426, 1), (427, 1), (428, 1)], [(2, 1), (20, 1), (45, 1), (65, 1), (67, 1), (87, 1), (99, 1), (182, 1), (429, 1), (430, 1), (431, 1), (432, 1), (433, 1), (434, 1), (435, 1), (436, 1)]]\n",
            "[(7, '0.109*\"epilepsi\" + 0.034*\"acupunctur\" + 0.023*\"chines\" + 0.017*\"famili\"'), (8, '0.050*\"epilepsi\" + 0.029*\"report\" + 0.015*\"syndrom\" + 0.015*\"relat\"'), (5, '0.067*\"epilepsi\" + 0.035*\"chines\" + 0.030*\"treatment\" + 0.017*\"review\"'), (0, '0.034*\"analysi\" + 0.034*\"epilepsi\" + 0.034*\"pharmacolog\" + 0.018*\"children\"'), (4, '0.086*\"epilepsi\" + 0.035*\"analysi\" + 0.034*\"patient\" + 0.030*\"chines\"'), (6, '0.077*\"epilepsi\" + 0.066*\"chines\" + 0.030*\"associ\" + 0.030*\"polymorph\"'), (3, '0.087*\"epilepsi\" + 0.080*\"chines\" + 0.070*\"medicin\" + 0.055*\"tradit\"'), (10, '0.042*\"epilepsi\" + 0.032*\"chines\" + 0.020*\"drug\" + 0.020*\"associ\"')]\n"
          ],
          "name": "stdout"
        }
      ]
    },
    {
      "cell_type": "markdown",
      "metadata": {
        "id": "HQXLcB2UTvct"
      },
      "source": [
        "The topics based on the result should be: epilpesy chinese medicine treatment"
      ]
    },
    {
      "cell_type": "markdown",
      "metadata": {
        "id": "gfkEWv7OF1RC"
      },
      "source": [
        "## (2) (8 points) Generate K topics by using LSA, the number of topics K should be decided by the coherence score, then summarize what are the topics. You may refer the code here:\n",
        "\n",
        "https://www.datacamp.com/community/tutorials/discovering-hidden-topics-python"
      ]
    },
    {
      "cell_type": "code",
      "metadata": {
        "colab": {
          "base_uri": "https://localhost:8080/"
        },
        "id": "U3cbrcJKF1RD",
        "outputId": "387548b3-e9fe-48d3-b74b-395b8020c46b"
      },
      "source": [
        "# Write your code here\n",
        "\n",
        "import os.path\n",
        "from gensim import corpora\n",
        "from gensim.models import LsiModel\n",
        "from nltk.tokenize import RegexpTokenizer\n",
        "from nltk.corpus import stopwords\n",
        "nltk.download('stopwords')\n",
        "from nltk.stem.porter import PorterStemmer\n",
        "from gensim.models.coherencemodel import CoherenceModel\n",
        "import matplotlib.pyplot as plt\n"
      ],
      "execution_count": 10,
      "outputs": [
        {
          "output_type": "stream",
          "text": [
            "[nltk_data] Downloading package stopwords to /root/nltk_data...\n",
            "[nltk_data]   Unzipping corpora/stopwords.zip.\n"
          ],
          "name": "stdout"
        }
      ]
    },
    {
      "cell_type": "code",
      "metadata": {
        "id": "NkEYgEaLMgRI"
      },
      "source": [
        "def preprocess_data(doc_set):\n",
        "    \"\"\"\n",
        "    Input  : docuemnt list\n",
        "    Purpose: preprocess text (tokenize, removing stopwords, and stemming)\n",
        "    Output : preprocessed text\n",
        "    \"\"\"\n",
        "    # initialize regex tokenizer\n",
        "    tokenizer = RegexpTokenizer(r'\\w+')\n",
        "    # create English stop words list\n",
        "    en_stop = set(stopwords.words('english'))\n",
        "    # Create p_stemmer of class PorterStemmer\n",
        "    p_stemmer = PorterStemmer()\n",
        "    # list for tokenized documents in loop\n",
        "    texts = []\n",
        "    # loop through document list\n",
        "    for i in doc_set:\n",
        "        # clean and tokenize document string\n",
        "        raw = i.lower()\n",
        "        tokens = tokenizer.tokenize(raw)\n",
        "        # remove stop words from tokens\n",
        "        stopped_tokens = [i for i in tokens if not i in en_stop]\n",
        "        # stem tokens\n",
        "        stemmed_tokens = [p_stemmer.stem(i) for i in stopped_tokens]\n",
        "        # add tokens to list\n",
        "        texts.append(stemmed_tokens)\n",
        "    return texts\n",
        "\n",
        "cleaned_text=preprocess_data(newtitle)"
      ],
      "execution_count": 13,
      "outputs": []
    },
    {
      "cell_type": "code",
      "metadata": {
        "id": "dLLHtXe2O_sS"
      },
      "source": [
        "def prepare_corpus(doc_clean):\n",
        "    \"\"\"\n",
        "    Input  : clean document\n",
        "    Purpose: create term dictionary of our courpus and Converting list of documents (corpus) into Document Term Matrix\n",
        "    Output : term dictionary and Document Term Matrix\n",
        "    \"\"\"\n",
        "    # Creating the term dictionary of our courpus, where every unique term is assigned an index. dictionary = corpora.Dictionary(doc_clean)\n",
        "    dictionary = corpora.Dictionary(doc_clean)\n",
        "    # Converting list of documents (corpus) into Document Term Matrix using dictionary prepared above.\n",
        "    doc_term_matrix = [dictionary.doc2bow(doc) for doc in doc_clean]\n",
        "    # generate LDA model\n",
        "    return dictionary,doc_term_matrix\n",
        "(dictionary,doc_term_matrix)=prepare_corpus(cleaned_text)"
      ],
      "execution_count": null,
      "outputs": []
    },
    {
      "cell_type": "code",
      "metadata": {
        "colab": {
          "base_uri": "https://localhost:8080/"
        },
        "id": "LQQaA7N8GJZb",
        "outputId": "a95e7c5f-15aa-4763-f69e-00ab6b7e9ae8"
      },
      "source": [
        "def create_gensim_lsa_model(doc_clean,number_of_topics,words):\n",
        "    \"\"\"\n",
        "    Input  : clean document, number of topics and number of words associated with each topic\n",
        "    Purpose: create LSA model using gensim\n",
        "    Output : return LSA model\n",
        "    \"\"\"\n",
        "    dictionary,doc_term_matrix=prepare_corpus(doc_clean)\n",
        "    # generate LSA model\n",
        "    lsamodel = LsiModel(doc_term_matrix, num_topics=number_of_topics, id2word = dictionary)  # train model\n",
        "    print(lsamodel.print_topics(num_topics=number_of_topics, num_words=words))\n",
        "    return lsamodel\n",
        "\n",
        "create_gensim_lsa_model(cleaned_text,11,6)"
      ],
      "execution_count": 25,
      "outputs": [
        {
          "output_type": "stream",
          "text": [
            "[(0, '0.740*\"epilepsi\" + 0.485*\"chines\" + 0.177*\"medicin\" + 0.134*\"treatment\" + 0.132*\"tradit\" + 0.125*\"associ\"'), (1, '-0.510*\"medicin\" + -0.416*\"tradit\" + -0.293*\"chines\" + 0.248*\"analysi\" + 0.215*\"associ\" + 0.200*\"epilepsi\"'), (2, '0.447*\"chines\" + -0.327*\"epilepsi\" + 0.316*\"associ\" + -0.305*\"treatment\" + 0.215*\"polymorph\" + 0.186*\"han\"'), (3, '0.336*\"valid\" + 0.297*\"version\" + -0.284*\"medicin\" + -0.232*\"drug\" + -0.213*\"associ\" + 0.209*\"inventori\"'), (4, '0.403*\"analysi\" + -0.337*\"drug\" + 0.315*\"review\" + 0.293*\"meta\" + 0.272*\"systemat\" + -0.205*\"resist\"'), (5, '0.316*\"patient\" + -0.284*\"drug\" + -0.236*\"valid\" + -0.216*\"china\" + -0.214*\"version\" + -0.160*\"inventori\"'), (6, '0.355*\"patient\" + 0.303*\"drug\" + 0.274*\"antiepilept\" + -0.187*\"han\" + 0.185*\"advers\" + -0.185*\"polymorph\"'), (7, '0.462*\"treatment\" + -0.341*\"use\" + 0.193*\"studi\" + 0.170*\"polymorph\" + -0.141*\"novel\" + 0.136*\"relat\"'), (8, '-0.357*\"effect\" + 0.219*\"tradit\" + 0.214*\"review\" + -0.210*\"patient\" + -0.202*\"analysi\" + 0.183*\"drug\"'), (9, '-0.299*\"use\" + 0.209*\"famili\" + -0.192*\"associ\" + 0.160*\"drug\" + -0.152*\"7t\" + 0.150*\"identifi\"'), (10, '-0.343*\"gene\" + -0.293*\"mutat\" + 0.224*\"acid\" + -0.216*\"analysi\" + -0.180*\"phenotyp\" + 0.158*\"epilepsi\"')]\n"
          ],
          "name": "stdout"
        },
        {
          "output_type": "execute_result",
          "data": {
            "text/plain": [
              "<gensim.models.lsimodel.LsiModel at 0x7f303183acd0>"
            ]
          },
          "metadata": {
            "tags": []
          },
          "execution_count": 25
        }
      ]
    },
    {
      "cell_type": "code",
      "metadata": {
        "colab": {
          "base_uri": "https://localhost:8080/",
          "height": 279
        },
        "id": "uUiXuivXMgkv",
        "outputId": "c4ff587b-84a5-4273-c77b-3307a6f955ce"
      },
      "source": [
        "#optimized the topic numbers by coherence\n",
        "#determine topic number\n",
        "number_of_topics=6\n",
        "def compute_coherence_values(dictionary, doc_term_matrix, doc_clean, stop, start=2, step=3):\n",
        "    \"\"\"\n",
        "    Input   : dictionary : Gensim dictionary\n",
        "              corpus : Gensim corpus\n",
        "              texts : List of input texts\n",
        "              stop : Max num of topics\n",
        "    purpose : Compute c_v coherence for various number of topics\n",
        "    Output  : model_list : List of LSA topic models\n",
        "              coherence_values : Coherence values corresponding to the LDA model with respective number of topics\n",
        "    \"\"\"\n",
        "    coherence_values = []\n",
        "    model_list = []\n",
        "    for num_topics in range(start, stop, step):\n",
        "        # generate LSA model\n",
        "        model = LsiModel(doc_term_matrix, num_topics=number_of_topics, id2word = dictionary)  # train model\n",
        "        model_list.append(model)\n",
        "        coherencemodel = CoherenceModel(model=model, texts=doc_clean, dictionary=dictionary, coherence='c_v')\n",
        "        coherence_values.append(coherencemodel.get_coherence())\n",
        "    return model_list, coherence_values\n",
        "compute_coherence_values(dictionary, doc_term_matrix,cleaned_text,14,start=2,step=3)\n",
        "\n",
        "def plot_graph(doc_clean,start, stop, step):\n",
        "    dictionary,doc_term_matrix=prepare_corpus(doc_clean)\n",
        "    model_list, coherence_values = compute_coherence_values(dictionary, doc_term_matrix,doc_clean,\n",
        "                                                            stop, start, step)\n",
        "    # Show graph\n",
        "    x = range(start, stop, step)\n",
        "    plt.plot(x, coherence_values)\n",
        "    plt.xlabel(\"Number of Topics\")\n",
        "    plt.ylabel(\"Coherence score\")\n",
        "    plt.legend((\"coherence_values\"), loc='best')\n",
        "    plt.show()\n",
        "\n",
        "plot_graph(cleaned_text,2, 22, 3)"
      ],
      "execution_count": 24,
      "outputs": [
        {
          "output_type": "display_data",
          "data": {
            "image/png": "[encoded data removed]",
            "text/plain": [
              "<Figure size 432x288 with 1 Axes>"
            ]
          },
          "metadata": {
            "tags": [],
            "needs_background": "light"
          }
        }
      ]
    },
    {
      "cell_type": "markdown",
      "metadata": {
        "id": "6y2oSkqbUC4H"
      },
      "source": [
        "Based on the result, the topic should be : epilepsy Chinese medicine treatment"
      ]
    },
    {
      "cell_type": "markdown",
      "metadata": {
        "id": "4QADreECF1RD"
      },
      "source": [
        "## (3) (4 points) Compare the results generated by the two topic modeling algorithms, which one is better? You should explain the reasons in details."
      ]
    },
    {
      "cell_type": "code",
      "metadata": {
        "id": "OpEjVZOlF1RE"
      },
      "source": [
        "# Write your answer here (no code needed for this question)\n",
        "\n"
      ],
      "execution_count": 38,
      "outputs": []
    },
    {
      "cell_type": "markdown",
      "metadata": {
        "id": "I_k-1rJkUm6s"
      },
      "source": [
        "LSA algorithm is the simplest method which is easy to understand and implement. It also offers better results compared to the vector space model. It is faster compared to other available algorithms because it involves document term matrix decomposition only.\n",
        "\n",
        "Latent topic dimension depends upon the rank of the matrix so we can't extend that limit. LSA decomposed matrix is a highly dense matrix, so it is difficult to index individual dimension. LSA unable to capture the multiple meanings of words. It is not easier to implement compared to LDA( latent Dirichlet allocation). It offers lower accuracy than LDA.\n",
        "\n",
        "So LDA is better than LSA."
      ]
    }
  ]
}