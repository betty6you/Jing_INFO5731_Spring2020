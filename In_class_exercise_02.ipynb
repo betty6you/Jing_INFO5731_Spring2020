{
  "nbformat": 4,
  "nbformat_minor": 0,
  "metadata": {
    "colab": {
      "name": "In_class_exercise_02.ipynb",
      "provenance": [],
      "collapsed_sections": [],
      "toc_visible": true,
      "include_colab_link": true
    },
    "kernelspec": {
      "display_name": "Python 3",
      "language": "python",
      "name": "python3"
    },
    "language_info": {
      "codemirror_mode": {
        "name": "ipython",
        "version": 3
      },
      "file_extension": ".py",
      "mimetype": "text/x-python",
      "name": "python",
      "nbconvert_exporter": "python",
      "pygments_lexer": "ipython3",
      "version": "3.7.4"
    }
  },
  "cells": [
    {
      "cell_type": "markdown",
      "metadata": {
        "id": "view-in-github",
        "colab_type": "text"
      },
      "source": [
        "<a href=\"https://colab.research.google.com/github/betty6you/Jing_INFO5731_Spring2020/blob/main/In_class_exercise_02.ipynb\" target=\"_parent\"><img src=\"https://colab.research.google.com/assets/colab-badge.svg\" alt=\"Open In Colab\"/></a>"
      ]
    },
    {
      "cell_type": "markdown",
      "metadata": {
        "id": "oo5bsEh2eeWi"
      },
      "source": [
        "# **The second In-class-exercise (1/27/2021, 20 points in total)**\n"
      ]
    },
    {
      "cell_type": "markdown",
      "metadata": {
        "id": "2sPQ58dIeqgp"
      },
      "source": [
        "(1) Write a Python program to find the duplicate elements in a given array of integers. Return -1 If there are no such elements. (4 points)"
      ]
    },
    {
      "cell_type": "code",
      "metadata": {
        "colab": {
          "base_uri": "https://localhost:8080/"
        },
        "id": "mnrvKMFTeoJR",
        "outputId": "962a2778-0a18-44d2-c8c2-1f255a4b2924"
      },
      "source": [
        "# write your answer here\n",
        " \n",
        "#Searches for duplicate element \n",
        "def array_duplicate_search(arr):\n",
        "\n",
        "  for i in range(0, len(arr)):     \n",
        "    for j in range(i+1, len(arr)):    \n",
        "        if (arr[i] == arr[j]):    \n",
        "            print(\"Duplicate elements in given array: \"+str(arr[j])); \n",
        "            \n",
        "        else:\n",
        "          j=j+1\n",
        "\n",
        "  return -1\n",
        "\n",
        "array_duplicate_search([1, 2, 3, 4, 4, 5, 2] )\n",
        "array_duplicate_search([1, 2, 3, 4] )"
      ],
      "execution_count": 201,
      "outputs": [
        {
          "output_type": "stream",
          "text": [
            "Duplicate elements in given array: 2\n",
            "Duplicate elements in given array: 4\n"
          ],
          "name": "stdout"
        },
        {
          "output_type": "execute_result",
          "data": {
            "text/plain": [
              "-1"
            ]
          },
          "metadata": {
            "tags": []
          },
          "execution_count": 201
        }
      ]
    },
    {
      "cell_type": "markdown",
      "metadata": {
        "id": "YYrH6n6IhZoQ"
      },
      "source": [
        "(2) Write a Python program to select all the Sundays of a specified year. (4 points)\n",
        "\n"
      ]
    },
    {
      "cell_type": "code",
      "metadata": {
        "colab": {
          "base_uri": "https://localhost:8080/"
        },
        "id": "OSfPLd23eLpX",
        "outputId": "173ab208-5f8b-4161-c1eb-be1d7fc43fcd"
      },
      "source": [
        "# write your answer here\n",
        "from datetime import date, timedelta\n",
        "\n",
        "def all_sundays(year):\n",
        "# January 1st of the given year\n",
        "       firstday = date(year, 1, 1)\n",
        "# First Sunday of the given year       \n",
        "       firstday += timedelta(days = 6 - firstday.weekday())  \n",
        "       while firstday.year == year:\n",
        "          yield firstday\n",
        "          firstday += timedelta(days = 7)\n",
        "          \n",
        "for s in all_sundays(2008):\n",
        "   print(s)"
      ],
      "execution_count": 199,
      "outputs": [
        {
          "output_type": "stream",
          "text": [
            "2008-01-06\n",
            "2008-01-13\n",
            "2008-01-20\n",
            "2008-01-27\n",
            "2008-02-03\n",
            "2008-02-10\n",
            "2008-02-17\n",
            "2008-02-24\n",
            "2008-03-02\n",
            "2008-03-09\n",
            "2008-03-16\n",
            "2008-03-23\n",
            "2008-03-30\n",
            "2008-04-06\n",
            "2008-04-13\n",
            "2008-04-20\n",
            "2008-04-27\n",
            "2008-05-04\n",
            "2008-05-11\n",
            "2008-05-18\n",
            "2008-05-25\n",
            "2008-06-01\n",
            "2008-06-08\n",
            "2008-06-15\n",
            "2008-06-22\n",
            "2008-06-29\n",
            "2008-07-06\n",
            "2008-07-13\n",
            "2008-07-20\n",
            "2008-07-27\n",
            "2008-08-03\n",
            "2008-08-10\n",
            "2008-08-17\n",
            "2008-08-24\n",
            "2008-08-31\n",
            "2008-09-07\n",
            "2008-09-14\n",
            "2008-09-21\n",
            "2008-09-28\n",
            "2008-10-05\n",
            "2008-10-12\n",
            "2008-10-19\n",
            "2008-10-26\n",
            "2008-11-02\n",
            "2008-11-09\n",
            "2008-11-16\n",
            "2008-11-23\n",
            "2008-11-30\n",
            "2008-12-07\n",
            "2008-12-14\n",
            "2008-12-21\n",
            "2008-12-28\n"
          ],
          "name": "stdout"
        }
      ]
    },
    {
      "cell_type": "markdown",
      "metadata": {
        "id": "UIpziZ6Sjie-"
      },
      "source": [
        "(3) Python files reading and writing. Download the “[exercise_02_data _collection.zip](https://github.com/unt-iialab/info5731_spring2021/blob/main/class_exercises/exercise_02_data_collection.zip)” to your local and un-zip it.\n",
        "\n",
        "*   Write a program to read all the txt files and save the sentences in all the files into one csv file with two columns, the first column is sentence id (txt file name+sentence line number), the second column is the sentence text content. (4 points)\n",
        "*   Remove all the punctuations from the sentences, save the processed sentences into a new column in the same csv file. (4 points)\n",
        "*   Ask the user to enter a word, return all the sentences that include this word, three kinds of information should be returned: sentence id, sentence text content, the count that user input word appear in the sentence. (4 points)\n",
        "\n"
      ]
    },
    {
      "cell_type": "code",
      "metadata": {
        "colab": {
          "base_uri": "https://localhost:8080/"
        },
        "id": "v3KdIbf7OdmL",
        "outputId": "964a8c46-6b8b-41ce-d4e9-b8825093373b"
      },
      "source": [
        "import csv\r\n",
        "with open(\"/content/In_class_exercise_02/ARTHROTEC.1.txt\",\"r\") as input_files:\r\n",
        "  all_line=input_files.readlines()\r\n",
        "  print(all_line)\r\n",
        "  print(len(all_line))\r\n",
        "fields=['Sentence ID', 'Sentence content']\r\n",
        "rows=[input_files.name+str(len(all_line)), all_line]\r\n",
        "with open(\"combine.csv\",\"w\") as out_files:\r\n",
        "  csvwriter = csv.writer(out_files,delimiter='\\t',)\r\n",
        "  csvwriter.writerow(fields)\r\n",
        "  csvwriter.writerow(rows)\r\n",
        "\r\n",
        "out_files.close()"
      ],
      "execution_count": 174,
      "outputs": [
        {
          "output_type": "stream",
          "text": [
            "['I feel a bit drowsy & have a little blurred vision, so far no gastric problems.\\n', \"I've been on Arthrotec 50 for over 10 years on and off, only taking it when I needed it.\\n\", \"Due to my arthritis getting progressively worse, to the point where I am in tears with the agony, gp's started me on 75 twice a day and I have to take it.\\n\", 'every day for the next month to see how I get on, here goes.\\n', \"So far its been very good, pains almost gone, but I feel a bit weird, didn't have that when on 50.\"]\n",
            "5\n"
          ],
          "name": "stdout"
        }
      ]
    },
    {
      "cell_type": "code",
      "metadata": {
        "id": "P8SnWHNuAbE-"
      },
      "source": [
        "import requests\r\n",
        "import csv\r\n",
        "for i in range(1,100):\r\n",
        "  url = 'https://raw.githubusercontent.com/betty6you/Jing_INFO5731_Spring2020/main/exercise_02_data_collection/ARTHROTEC.'+str(i)+'.txt'\r\n",
        "  response = requests.get(url)\r\n",
        "  #count=len(response.text.readlines( ))\r\n",
        "  #print(response.text)\r\n",
        "  \r\n",
        "  fields=['Sentence ID', 'Sentence content']\r\n",
        "    rows= [url ,line]\r\n",
        "\r\n",
        "  with open(\"Big.csv\",\"w\") as csvfile:\r\n",
        "    csvwriter = csv.writer(csvfile,delimiter='\\t',lineterminator='\\n')\r\n",
        "    csvwriter.writerow(fields)\r\n",
        "    csvwriter.writerows(rows)\r\n",
        "\r\n"
      ],
      "execution_count": 187,
      "outputs": []
    },
    {
      "cell_type": "code",
      "metadata": {
        "id": "nVkq_ww4A9zY"
      },
      "source": [
        ""
      ],
      "execution_count": null,
      "outputs": []
    },
    {
      "cell_type": "code",
      "metadata": {
        "id": "Vshc5S81A-ZO"
      },
      "source": [
        ""
      ],
      "execution_count": null,
      "outputs": []
    },
    {
      "cell_type": "markdown",
      "metadata": {
        "id": "-12cqmJEpZOh"
      },
      "source": [
        "(4) Install packages nltk, numpy, scipy, pandas, and sklearn on Google Colab. Write a program to test whether they are installed successfully. (3 points for extra)"
      ]
    },
    {
      "cell_type": "code",
      "metadata": {
        "id": "f1pn1Zl2qK77",
        "colab": {
          "base_uri": "https://localhost:8080/"
        },
        "outputId": "bc10a1ed-fec5-4723-a438-f78c7a1ce124"
      },
      "source": [
        "# write your answer here\n",
        "\n",
        "!pip install nltk\n",
        "import nltk\n",
        "nltk.download('stopwords')\n",
        "\n",
        "!pip install numpy\n",
        "import numpy\n",
        "\n",
        "cvalues = [20.1, 20.8, 21.9, 22.5, 22.7, 22.3, 21.8, 21.2, 20.9, 20.1]\n",
        "\n",
        "C = numpy.array(cvalues)\n",
        "print(C)\n",
        "!pip install scipy\n",
        "from scipy import constants\n",
        "\n",
        "print(constants.liter)\n",
        "\n",
        "!pip install pandas\n",
        "import pandas\n",
        "pandas.isnull(2)\n",
        "\n",
        "!pip install sklearn\n",
        "import sklearn\n",
        "from sklearn import datasets\n",
        "iris = datasets.load_iris()\n",
        "digits = datasets.load_digits()\n",
        "print(digits.data)"
      ],
      "execution_count": 198,
      "outputs": [
        {
          "output_type": "stream",
          "text": [
            "Requirement already satisfied: nltk in /usr/local/lib/python3.6/dist-packages (3.2.5)\n",
            "Requirement already satisfied: six in /usr/local/lib/python3.6/dist-packages (from nltk) (1.15.0)\n",
            "[nltk_data] Downloading package stopwords to /root/nltk_data...\n",
            "[nltk_data]   Package stopwords is already up-to-date!\n",
            "Requirement already satisfied: numpy in /usr/local/lib/python3.6/dist-packages (1.19.5)\n",
            "[20.1 20.8 21.9 22.5 22.7 22.3 21.8 21.2 20.9 20.1]\n",
            "Requirement already satisfied: scipy in /usr/local/lib/python3.6/dist-packages (1.4.1)\n",
            "Requirement already satisfied: numpy>=1.13.3 in /usr/local/lib/python3.6/dist-packages (from scipy) (1.19.5)\n",
            "0.001\n",
            "Requirement already satisfied: pandas in /usr/local/lib/python3.6/dist-packages (1.1.5)\n",
            "Requirement already satisfied: numpy>=1.15.4 in /usr/local/lib/python3.6/dist-packages (from pandas) (1.19.5)\n",
            "Requirement already satisfied: python-dateutil>=2.7.3 in /usr/local/lib/python3.6/dist-packages (from pandas) (2.8.1)\n",
            "Requirement already satisfied: pytz>=2017.2 in /usr/local/lib/python3.6/dist-packages (from pandas) (2018.9)\n",
            "Requirement already satisfied: six>=1.5 in /usr/local/lib/python3.6/dist-packages (from python-dateutil>=2.7.3->pandas) (1.15.0)\n",
            "Requirement already satisfied: sklearn in /usr/local/lib/python3.6/dist-packages (0.0)\n",
            "Requirement already satisfied: scikit-learn in /usr/local/lib/python3.6/dist-packages (from sklearn) (0.22.2.post1)\n",
            "Requirement already satisfied: numpy>=1.11.0 in /usr/local/lib/python3.6/dist-packages (from scikit-learn->sklearn) (1.19.5)\n",
            "Requirement already satisfied: scipy>=0.17.0 in /usr/local/lib/python3.6/dist-packages (from scikit-learn->sklearn) (1.4.1)\n",
            "Requirement already satisfied: joblib>=0.11 in /usr/local/lib/python3.6/dist-packages (from scikit-learn->sklearn) (1.0.0)\n",
            "[[ 0.  0.  5. ...  0.  0.  0.]\n",
            " [ 0.  0.  0. ... 10.  0.  0.]\n",
            " [ 0.  0.  0. ... 16.  9.  0.]\n",
            " ...\n",
            " [ 0.  0.  1. ...  6.  0.  0.]\n",
            " [ 0.  0.  2. ... 12.  0.  0.]\n",
            " [ 0.  0. 10. ... 12.  1.  0.]]\n"
          ],
          "name": "stdout"
        }
      ]
    }
  ]
}